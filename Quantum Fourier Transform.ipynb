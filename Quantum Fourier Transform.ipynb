{
 "cells": [
  {
   "cell_type": "markdown",
   "id": "2a34eefe",
   "metadata": {},
   "source": [
    "## The Qiskit algorith of the Quantum Fourier Transform"
   ]
  },
  {
   "cell_type": "markdown",
   "id": "ef5c0ae9",
   "metadata": {},
   "source": [
    "<font size = \"3\">\n",
    "The Quantum Fourier Transform (QFT) is a recurring technique in many quantum computing algorithms that allows (processamento) speed grow. The QFT decomposes qubits' values in another (base), being able to calculate effective the period of an eigenstate.\n",
    "It is represented by the following equation:\n",
    "<br> <br>\n",
    "$QFT |\\phi>  \\equiv |\\psi> = \\frac{1}{N} \\sum_{k = 0}^{N}  e^{2 \\pi i \\psi \\phi / N} |\\phi>$\n",
    "\n",
    "<font>"
   ]
  },
  {
   "cell_type": "markdown",
   "id": "cb9fd62e",
   "metadata": {},
   "source": [
    "<font size = \"3\"> The first step is importing the necessary tools: <font>"
   ]
  },
  {
   "cell_type": "code",
   "execution_count": null,
   "id": "6d1e4cfd",
   "metadata": {},
   "outputs": [],
   "source": [
    "from qiskit import *\n",
    "from qiskit.visualization import *\n",
    "from qiskit.quantum_info import Statevector\n",
    "from qiskit.visualization import plot_histogram\n",
    "import numpy as np"
   ]
  },
  {
   "cell_type": "markdown",
   "id": "a87e502a",
   "metadata": {},
   "source": [
    "<font size = \"3\"> We can change de number of qubits used to create the circuit: <font>"
   ]
  },
  {
   "cell_type": "code",
   "execution_count": null,
   "id": "1bdd165e",
   "metadata": {},
   "outputs": [],
   "source": [
    "n = 3                                       # The code can be addapted to hold different number of qubits\n",
    "#n = int(input('Type in the desired number of qubits'))  # This is an alternative to the first line where the user inputs the number of qubits\n",
    "Qr = QuantumRegister(n)                     # Creates the quantum registers\n",
    "Cr = ClassicalRegister(n)                   # Creates the classical registers\n",
    "QFT = QuantumCircuit(Qr, Cr)                # Creates the QFT circuit"
   ]
  },
  {
   "cell_type": "markdown",
   "id": "15cf4b79",
   "metadata": {},
   "source": [
    "<font size = \"3\">The QFT circuit is built using only three gates, as follows:<font>"
   ]
  },
  {
   "cell_type": "code",
   "execution_count": null,
   "id": "766b86ec",
   "metadata": {},
   "outputs": [],
   "source": [
    "for i in range (n-1, -1, -1):               # the gates are applied in reverse order (see circuit)\n",
    "    QFT.h(i)\n",
    "    p = 0\n",
    "    for j in range (i):\n",
    "        p+=1                                # phase counter\n",
    "        QFT.cp(np.pi/(2**p), i-j-1, i)      # controlled phase is applied\n",
    "    QFT.barrier()                           # we add a barrier for better visualization that separates the H and P gates in each qbits\n",
    "    \n",
    "for i in range(n//2):\n",
    "    QFT.swap(i, n-1-i)                      # All the qbits are swapped"
   ]
  },
  {
   "cell_type": "markdown",
   "id": "10d7af6f",
   "metadata": {},
   "source": [
    "<font size = \"3\"> The Hadamard gate applies a normalization among the probabilities of a qubits' result, generating an entanglement between the values of |0> and |1>. It is represented by the matrix: <br><br>\n",
    "    $H = \\frac{1}{\\sqrt {2}}\n",
    "    \\begin{bmatrix}\n",
    "    1 & 1 \\\\\n",
    "    1 & -1 \\\\\n",
    "    \\end{bmatrix}\n",
    "    $\n",
    "    <br> <br>\n",
    "    The Phase gate applies a  phase shift in the qubit:<br><br>\n",
    "    $P(n) = \\frac{\\pi}{2^n} \n",
    "    \\begin{bmatrix} \n",
    "    1 & 0 \\\\\n",
    "    0 & \\frac{i}{n}\\\\\n",
    "    \\end{bmatrix}$\n",
    "    <br><br>\n",
    "As the name suggests, the Swap gate swaps the values between two qubits. It's the only gate that, by definition, operates in more than one qubit. <br><br>\n",
    "    $ S = \n",
    "        \\begin{bmatrix}\n",
    "            1 & 0 & 0 & 0 \\\\\n",
    "            0 & 0 & 1 & 0 \\\\\n",
    "            0 & 1 & 0 & 0 \\\\\n",
    "            0 & 0 & 0 & 1 \n",
    "        \\end{bmatrix} $\n",
    "    <br><br>\n",
    "    \n",
    "*It is important to note that the matrix used for the Phase gate is not the same as applied in this circuit because as a controlled gate, its matrix needs to be bigger.*"
   ]
  },
  {
   "cell_type": "code",
   "execution_count": null,
   "id": "fde7f4f8",
   "metadata": {},
   "outputs": [],
   "source": [
    "QFT.draw('mpl')"
   ]
  },
  {
   "cell_type": "markdown",
   "id": "b5131254",
   "metadata": {},
   "source": [
    "<font size = \"3\">To visualize the results we can plot the Statevector using Bloch's sphere. It is possible to run the next two command cells multiple times to change user input and visualize the initial and final representations of the Statevector.\n",
    "    <font>"
   ]
  },
  {
   "cell_type": "code",
   "execution_count": null,
   "id": "17af2451",
   "metadata": {},
   "outputs": [],
   "source": [
    "iqubit = input('Choose initial state: ')             # the initial statevector \n",
    "ISV = Statevector.from_label(iqubit)\n",
    "print(f'Bloch sphere for the |{iqubit}> state')\n",
    "plot_bloch_multivector(ISV)"
   ]
  },
  {
   "cell_type": "code",
   "execution_count": null,
   "id": "a9583863",
   "metadata": {
    "scrolled": true
   },
   "outputs": [],
   "source": [
    "QFTSV = ISV.evolve(QFT)\n",
    "print('Transformed statevector: ')\n",
    "plot_bloch_multivector(QFTSV)"
   ]
  },
  {
   "cell_type": "markdown",
   "id": "121925a4",
   "metadata": {},
   "source": [
    "<font size = \"3\"> The last way to obtain results is plotting the histogram of probabilities for all the states in the system. After running this cell is impossible to rerun the ones that plot the Bloch's sphere."
   ]
  },
  {
   "cell_type": "code",
   "execution_count": null,
   "id": "26d8107b",
   "metadata": {},
   "outputs": [],
   "source": [
    "QFT.measure(Qr, Cr)\n",
    "sim = Aer.get_backend('qasm_simulator')\n",
    "execute(QFT, backend = sim)\n",
    "resultado = execute(QFT, backend = sim).result()\n",
    "plot_histogram(resultado.get_counts(QFT), color = \"black\")"
   ]
  }
 ],
 "metadata": {
  "kernelspec": {
   "display_name": "Python 3 (ipykernel)",
   "language": "python",
   "name": "python3"
  },
  "language_info": {
   "codemirror_mode": {
    "name": "ipython",
    "version": 3
   },
   "file_extension": ".py",
   "mimetype": "text/x-python",
   "name": "python",
   "nbconvert_exporter": "python",
   "pygments_lexer": "ipython3",
   "version": "3.11.4"
  }
 },
 "nbformat": 4,
 "nbformat_minor": 5
}
